{
 "cells": [
  {
   "cell_type": "code",
   "execution_count": 53,
   "metadata": {},
   "outputs": [],
   "source": [
    "import pandas as pd\n",
    "from sklearn.preprocessing import StandardScaler\n",
    "from sklearn.decomposition import PCA\n",
    "from sklearn.cluster import KMeans, AgglomerativeClustering, DBSCAN, SpectralClustering\n",
    "from sklearn.metrics import silhouette_score, calinski_harabasz_score, davies_bouldin_score"
   ]
  },
  {
   "cell_type": "code",
   "execution_count": 54,
   "metadata": {},
   "outputs": [],
   "source": [
    "file_path = 'F1Drivers_Dataset.csv' \n",
    "f1_drivers_dataset = pd.read_csv(file_path)"
   ]
  },
  {
   "cell_type": "code",
   "execution_count": 55,
   "metadata": {},
   "outputs": [],
   "source": [
    "numerical_columns = f1_drivers_dataset.select_dtypes(include=['float64', 'int64']).columns\n",
    "data_for_clustering = f1_drivers_dataset[numerical_columns]"
   ]
  },
  {
   "cell_type": "code",
   "execution_count": 56,
   "metadata": {},
   "outputs": [
    {
     "name": "stderr",
     "output_type": "stream",
     "text": [
      "C:\\Users\\randy\\AppData\\Local\\Temp\\ipykernel_31932\\2537181845.py:1: SettingWithCopyWarning: \n",
      "A value is trying to be set on a copy of a slice from a DataFrame\n",
      "\n",
      "See the caveats in the documentation: https://pandas.pydata.org/pandas-docs/stable/user_guide/indexing.html#returning-a-view-versus-a-copy\n",
      "  data_for_clustering.fillna(data_for_clustering.mean(), inplace=True)\n"
     ]
    }
   ],
   "source": [
    "data_for_clustering.fillna(data_for_clustering.mean(), inplace=True)\n"
   ]
  },
  {
   "cell_type": "code",
   "execution_count": 57,
   "metadata": {},
   "outputs": [],
   "source": [
    "scaler = StandardScaler()\n",
    "scaled_data = scaler.fit_transform(data_for_clustering)"
   ]
  },
  {
   "cell_type": "code",
   "execution_count": 58,
   "metadata": {},
   "outputs": [
    {
     "name": "stderr",
     "output_type": "stream",
     "text": [
      "c:\\Users\\randy\\AppData\\Local\\Programs\\Python\\Python310\\lib\\site-packages\\sklearn\\cluster\\_kmeans.py:1416: FutureWarning: The default value of `n_init` will change from 10 to 'auto' in 1.4. Set the value of `n_init` explicitly to suppress the warning\n",
      "  super()._check_params_vs_input(X, default_n_init=10)\n",
      "c:\\Users\\randy\\AppData\\Local\\Programs\\Python\\Python310\\lib\\site-packages\\sklearn\\manifold\\_spectral_embedding.py:273: UserWarning: Graph is not fully connected, spectral embedding may not work as expected.\n",
      "  warnings.warn(\n"
     ]
    }
   ],
   "source": [
    "# Reducing the dimensionality of the data using PCA\n",
    "pca = PCA(n_components=2)  # Reduce to 2 dimensions for visualization purposes\n",
    "pca_data = pca.fit_transform(scaled_data)\n",
    "\n",
    "# Applying K-Means Clustering\n",
    "kmeans = KMeans(n_clusters=3)  # Assume 3 clusters for simplicity\n",
    "kmeans_labels = kmeans.fit_predict(pca_data)\n",
    "\n",
    "# Applying Hierarchical Clustering\n",
    "hierarchical = AgglomerativeClustering(n_clusters=3)\n",
    "hierarchical_labels = hierarchical.fit_predict(pca_data)\n",
    "\n",
    "# Applying DBSCAN\n",
    "dbscan = DBSCAN(eps=0.5, min_samples=5)  # These parameters can be tuned\n",
    "dbscan_labels = dbscan.fit_predict(pca_data)\n",
    "\n",
    "# Applying Spectral Clustering\n",
    "spectral = SpectralClustering(n_clusters=3, affinity='nearest_neighbors')\n",
    "spectral_labels = spectral.fit_predict(pca_data)"
   ]
  },
  {
   "cell_type": "code",
   "execution_count": 59,
   "metadata": {},
   "outputs": [],
   "source": [
    "# For K-Means\n",
    "silhouette_kmeans = silhouette_score(pca_data, kmeans_labels)\n",
    "calinski_kmeans = calinski_harabasz_score(pca_data, kmeans_labels)\n",
    "davies_kmeans = davies_bouldin_score(pca_data, kmeans_labels)\n",
    "\n",
    "# For Hierarchical Clustering\n",
    "silhouette_hierarchical = silhouette_score(pca_data, hierarchical_labels)\n",
    "calinski_hierarchical = calinski_harabasz_score(pca_data, hierarchical_labels)\n",
    "davies_hierarchical = davies_bouldin_score(pca_data, hierarchical_labels)\n",
    "\n",
    "# For DBSCAN\n",
    "silhouette_dbscan = silhouette_score(pca_data, dbscan_labels)\n",
    "calinski_dbscan = calinski_harabasz_score(pca_data, dbscan_labels)\n",
    "davies_dbscan = davies_bouldin_score(pca_data, dbscan_labels)\n",
    "\n",
    "# For Spectral Clustering\n",
    "silhouette_spectral = silhouette_score(pca_data, spectral_labels)\n",
    "calinski_spectral = calinski_harabasz_score(pca_data, spectral_labels)\n",
    "davies_spectral = davies_bouldin_score(pca_data, spectral_labels)"
   ]
  },
  {
   "cell_type": "code",
   "execution_count": 60,
   "metadata": {},
   "outputs": [
    {
     "name": "stdout",
     "output_type": "stream",
     "text": [
      "      Algorithm  Silhouette Score  Calinski-Harabasz Score  \\\n",
      "0       K-Means          0.737877               999.069081   \n",
      "1  Hierarchical          0.636827               872.741795   \n",
      "2        DBSCAN          0.675321               368.202810   \n",
      "3      Spectral         -0.087435                27.944663   \n",
      "\n",
      "   Davies-Bouldin Score  \n",
      "0              0.779632  \n",
      "1              0.854335  \n",
      "2              2.827797  \n",
      "3              1.357280  \n"
     ]
    }
   ],
   "source": [
    "evaluation_metrics = {\n",
    "    \"Algorithm\": [\"K-Means\", \"Hierarchical\", \"DBSCAN\", \"Spectral\"],\n",
    "    \"Silhouette Score\": [silhouette_kmeans, silhouette_hierarchical, silhouette_dbscan, silhouette_spectral],\n",
    "    \"Calinski-Harabasz Score\": [calinski_kmeans, calinski_hierarchical, calinski_dbscan, calinski_spectral],\n",
    "    \"Davies-Bouldin Score\": [davies_kmeans, davies_hierarchical, davies_dbscan, davies_spectral]\n",
    "}\n",
    "\n",
    "evaluation_results = pd.DataFrame(evaluation_metrics)\n",
    "print(evaluation_results)"
   ]
  }
 ],
 "metadata": {
  "kernelspec": {
   "display_name": "Python 3",
   "language": "python",
   "name": "python3"
  },
  "language_info": {
   "codemirror_mode": {
    "name": "ipython",
    "version": 3
   },
   "file_extension": ".py",
   "mimetype": "text/x-python",
   "name": "python",
   "nbconvert_exporter": "python",
   "pygments_lexer": "ipython3",
   "version": "3.10.7"
  }
 },
 "nbformat": 4,
 "nbformat_minor": 2
}
